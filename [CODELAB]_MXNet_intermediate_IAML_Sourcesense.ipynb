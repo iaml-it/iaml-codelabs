{
  "nbformat": 4,
  "nbformat_minor": 0,
  "metadata": {
    "colab": {
      "name": "[CODELAB] MXNet intermediate - IAML / Sourcesense.ipynb",
      "version": "0.3.2",
      "provenance": [],
      "collapsed_sections": []
    },
    "kernelspec": {
      "name": "python3",
      "display_name": "Python 3"
    },
    "accelerator": "GPU"
  },
  "cells": [
    {
      "cell_type": "markdown",
      "metadata": {
        "id": "RXnNTYX2eLZr",
        "colab_type": "text"
      },
      "source": [
        "# Codelab MXNet (intermediate)\n",
        "## Organizzato da [Italian Association for Machine Learning](http://iaml.it) e [Sourcesense](https://www.sourcesense.com)"
      ]
    },
    {
      "cell_type": "code",
      "metadata": {
        "id": "Q9ceSbE0DNaQ",
        "colab_type": "code",
        "outputId": "77ddc12a-d554-4ad3-fc27-135f7b0d4be8",
        "colab": {
          "base_uri": "https://localhost:8080/",
          "height": 541
        }
      },
      "source": [
        "# Install libraries\n",
        "!apt install libnvrtc9.1\n",
        "!pip install mxnet-cu92"
      ],
      "execution_count": 0,
      "outputs": [
        {
          "output_type": "stream",
          "text": [
            "Reading package lists... Done\n",
            "Building dependency tree       \n",
            "Reading state information... Done\n",
            "The following NEW packages will be installed:\n",
            "  libnvrtc9.1\n",
            "0 upgraded, 1 newly installed, 0 to remove and 13 not upgraded.\n",
            "Need to get 6,309 kB of archives.\n",
            "After this operation, 25.1 MB of additional disk space will be used.\n",
            "Get:1 http://archive.ubuntu.com/ubuntu bionic/multiverse amd64 libnvrtc9.1 amd64 9.1.85-3ubuntu1 [6,309 kB]\n",
            "Fetched 6,309 kB in 3s (2,198 kB/s)\n",
            "Selecting previously unselected package libnvrtc9.1:amd64.\n",
            "(Reading database ... 110851 files and directories currently installed.)\n",
            "Preparing to unpack .../libnvrtc9.1_9.1.85-3ubuntu1_amd64.deb ...\n",
            "Unpacking libnvrtc9.1:amd64 (9.1.85-3ubuntu1) ...\n",
            "Setting up libnvrtc9.1:amd64 (9.1.85-3ubuntu1) ...\n",
            "Processing triggers for libc-bin (2.27-3ubuntu1) ...\n",
            "Collecting mxnet-cu92\n",
            "\u001b[?25l  Downloading https://files.pythonhosted.org/packages/3b/18/b4d7a80ee371bc18ac08e1714402a281af806e09aba108a10f6590720fff/mxnet_cu92-1.3.1-py2.py3-none-manylinux1_x86_64.whl (412.1MB)\n",
            "\u001b[K    100% |████████████████████████████████| 412.1MB 42kB/s \n",
            "tcmalloc: large alloc 1073750016 bytes == 0x5c04e000 @  0x7f7255e672a4 0x591a07 0x5b5d56 0x502e9a 0x506859 0x502209 0x502f3d 0x506859 0x504c28 0x502540 0x502f3d 0x506859 0x504c28 0x502540 0x502f3d 0x506859 0x504c28 0x502540 0x502f3d 0x507641 0x502209 0x502f3d 0x506859 0x504c28 0x502540 0x502f3d 0x507641 0x504c28 0x502540 0x502f3d 0x507641\n",
            "\u001b[?25hRequirement already satisfied: requests>=2.20.0 in /usr/local/lib/python3.6/dist-packages (from mxnet-cu92) (2.21.0)\n",
            "Requirement already satisfied: numpy<1.15.0,>=1.8.2 in /usr/local/lib/python3.6/dist-packages (from mxnet-cu92) (1.14.6)\n",
            "Requirement already satisfied: graphviz<0.9.0,>=0.8.1 in /usr/local/lib/python3.6/dist-packages (from mxnet-cu92) (0.8.4)\n",
            "Requirement already satisfied: urllib3<1.25,>=1.21.1 in /usr/local/lib/python3.6/dist-packages (from requests>=2.20.0->mxnet-cu92) (1.22)\n",
            "Requirement already satisfied: chardet<3.1.0,>=3.0.2 in /usr/local/lib/python3.6/dist-packages (from requests>=2.20.0->mxnet-cu92) (3.0.4)\n",
            "Requirement already satisfied: idna<2.9,>=2.5 in /usr/local/lib/python3.6/dist-packages (from requests>=2.20.0->mxnet-cu92) (2.6)\n",
            "Requirement already satisfied: certifi>=2017.4.17 in /usr/local/lib/python3.6/dist-packages (from requests>=2.20.0->mxnet-cu92) (2018.11.29)\n",
            "Installing collected packages: mxnet-cu92\n",
            "Successfully installed mxnet-cu92-1.3.1\n"
          ],
          "name": "stdout"
        }
      ]
    },
    {
      "cell_type": "markdown",
      "metadata": {
        "id": "k5AXDkF2eV0J",
        "colab_type": "text"
      },
      "source": [
        "## Manipolazione tensori"
      ]
    },
    {
      "cell_type": "code",
      "metadata": {
        "id": "CP04M9UOEIn9",
        "colab_type": "code",
        "colab": {}
      },
      "source": [
        "# Main import\n",
        "from mxnet import nd\n",
        "import mxnet as mx"
      ],
      "execution_count": 0,
      "outputs": []
    },
    {
      "cell_type": "code",
      "metadata": {
        "id": "kYS9MukKE7o2",
        "colab_type": "code",
        "outputId": "f6a6fa29-ad8e-48c2-8947-a4c8a8f2757f",
        "colab": {
          "base_uri": "https://localhost:8080/",
          "height": 86
        }
      },
      "source": [
        "# Array creation\n",
        "nd.array(((1,2,3),(4,5,6)))"
      ],
      "execution_count": 0,
      "outputs": [
        {
          "output_type": "execute_result",
          "data": {
            "text/plain": [
              "\n",
              "[[1. 2. 3.]\n",
              " [4. 5. 6.]]\n",
              "<NDArray 2x3 @cpu(0)>"
            ]
          },
          "metadata": {
            "tags": []
          },
          "execution_count": 3
        }
      ]
    },
    {
      "cell_type": "code",
      "metadata": {
        "id": "tdijFTHIFHKn",
        "colab_type": "code",
        "colab": {}
      },
      "source": [
        "x = nd.ones((2,3))"
      ],
      "execution_count": 0,
      "outputs": []
    },
    {
      "cell_type": "code",
      "metadata": {
        "id": "ThqKY4-aFLKZ",
        "colab_type": "code",
        "outputId": "6096a85c-e446-4187-9a65-68eef1773e08",
        "colab": {
          "base_uri": "https://localhost:8080/",
          "height": 86
        }
      },
      "source": [
        "x"
      ],
      "execution_count": 0,
      "outputs": [
        {
          "output_type": "execute_result",
          "data": {
            "text/plain": [
              "\n",
              "[[1. 1. 1.]\n",
              " [1. 1. 1.]]\n",
              "<NDArray 2x3 @cpu(0)>"
            ]
          },
          "metadata": {
            "tags": []
          },
          "execution_count": 6
        }
      ]
    },
    {
      "cell_type": "code",
      "metadata": {
        "id": "YuZQPuazFQek",
        "colab_type": "code",
        "colab": {}
      },
      "source": [
        "y = nd.random_uniform(-1,1,(2,3))"
      ],
      "execution_count": 0,
      "outputs": []
    },
    {
      "cell_type": "code",
      "metadata": {
        "id": "JuYpusEZFb0t",
        "colab_type": "code",
        "outputId": "1db25684-f902-4ddf-aa6c-d768a94fb38e",
        "colab": {
          "base_uri": "https://localhost:8080/",
          "height": 86
        }
      },
      "source": [
        "y"
      ],
      "execution_count": 0,
      "outputs": [
        {
          "output_type": "execute_result",
          "data": {
            "text/plain": [
              "\n",
              "[[0.09762704 0.18568921 0.43037868]\n",
              " [0.6885315  0.20552671 0.71589124]]\n",
              "<NDArray 2x3 @cpu(0)>"
            ]
          },
          "metadata": {
            "tags": []
          },
          "execution_count": 8
        }
      ]
    },
    {
      "cell_type": "code",
      "metadata": {
        "id": "IvLgiKdFFcZ_",
        "colab_type": "code",
        "colab": {}
      },
      "source": [
        "x = nd.full((2,3),2)"
      ],
      "execution_count": 0,
      "outputs": []
    },
    {
      "cell_type": "code",
      "metadata": {
        "id": "geerA5jqFj22",
        "colab_type": "code",
        "outputId": "8aea8728-cbb4-4f78-daee-96aded5a4435",
        "colab": {
          "base_uri": "https://localhost:8080/",
          "height": 86
        }
      },
      "source": [
        "x"
      ],
      "execution_count": 0,
      "outputs": [
        {
          "output_type": "execute_result",
          "data": {
            "text/plain": [
              "\n",
              "[[2. 2. 2.]\n",
              " [2. 2. 2.]]\n",
              "<NDArray 2x3 @cpu(0)>"
            ]
          },
          "metadata": {
            "tags": []
          },
          "execution_count": 19
        }
      ]
    },
    {
      "cell_type": "code",
      "metadata": {
        "id": "s6wtQfUXFkzT",
        "colab_type": "code",
        "outputId": "8ad9feda-8f87-4ed1-f32c-4f3440a72dc9",
        "colab": {
          "base_uri": "https://localhost:8080/",
          "height": 34
        }
      },
      "source": [
        "(y.shape,y.size,y.dtype)"
      ],
      "execution_count": 0,
      "outputs": [
        {
          "output_type": "execute_result",
          "data": {
            "text/plain": [
              "((2, 3), 6, numpy.float32)"
            ]
          },
          "metadata": {
            "tags": []
          },
          "execution_count": 20
        }
      ]
    },
    {
      "cell_type": "code",
      "metadata": {
        "id": "cv9FC8pnFwKG",
        "colab_type": "code",
        "outputId": "e5f7d2a7-1b6b-4291-f1bb-fcd66a489942",
        "colab": {
          "base_uri": "https://localhost:8080/",
          "height": 86
        }
      },
      "source": [
        "x * y"
      ],
      "execution_count": 0,
      "outputs": [
        {
          "output_type": "execute_result",
          "data": {
            "text/plain": [
              "\n",
              "[[0.19525409 0.37137842 0.86075735]\n",
              " [1.377063   0.41105342 1.4317825 ]]\n",
              "<NDArray 2x3 @cpu(0)>"
            ]
          },
          "metadata": {
            "tags": []
          },
          "execution_count": 21
        }
      ]
    },
    {
      "cell_type": "code",
      "metadata": {
        "id": "AqUTel53GAb9",
        "colab_type": "code",
        "outputId": "e4b8c932-14e2-42f0-8d5c-32d5da0b5a19",
        "colab": {
          "base_uri": "https://localhost:8080/",
          "height": 86
        }
      },
      "source": [
        "y * x"
      ],
      "execution_count": 0,
      "outputs": [
        {
          "output_type": "execute_result",
          "data": {
            "text/plain": [
              "\n",
              "[[0.19525409 0.37137842 0.86075735]\n",
              " [1.377063   0.41105342 1.4317825 ]]\n",
              "<NDArray 2x3 @cpu(0)>"
            ]
          },
          "metadata": {
            "tags": []
          },
          "execution_count": 22
        }
      ]
    },
    {
      "cell_type": "code",
      "metadata": {
        "id": "Ts5lbqimGFLU",
        "colab_type": "code",
        "outputId": "24b1920c-ee99-4a5a-f079-6880be4390f5",
        "colab": {
          "base_uri": "https://localhost:8080/",
          "height": 86
        }
      },
      "source": [
        "x"
      ],
      "execution_count": 0,
      "outputs": [
        {
          "output_type": "execute_result",
          "data": {
            "text/plain": [
              "\n",
              "[[2. 2. 2.]\n",
              " [2. 2. 2.]]\n",
              "<NDArray 2x3 @cpu(0)>"
            ]
          },
          "metadata": {
            "tags": []
          },
          "execution_count": 23
        }
      ]
    },
    {
      "cell_type": "code",
      "metadata": {
        "id": "KZQYFPdrGXtI",
        "colab_type": "code",
        "outputId": "c0742e7a-4a27-4ce3-8470-5aaef5ce03c5",
        "colab": {
          "base_uri": "https://localhost:8080/",
          "height": 104
        }
      },
      "source": [
        "x.T"
      ],
      "execution_count": 0,
      "outputs": [
        {
          "output_type": "execute_result",
          "data": {
            "text/plain": [
              "\n",
              "[[2. 2.]\n",
              " [2. 2.]\n",
              " [2. 2.]]\n",
              "<NDArray 3x2 @cpu(0)>"
            ]
          },
          "metadata": {
            "tags": []
          },
          "execution_count": 24
        }
      ]
    },
    {
      "cell_type": "code",
      "metadata": {
        "id": "RYHQ7yF-GYxH",
        "colab_type": "code",
        "outputId": "9f63f28f-7f6e-43ef-c6f5-9124f3fdd83f",
        "colab": {
          "base_uri": "https://localhost:8080/",
          "height": 86
        }
      },
      "source": [
        "y"
      ],
      "execution_count": 0,
      "outputs": [
        {
          "output_type": "execute_result",
          "data": {
            "text/plain": [
              "\n",
              "[[0.09762704 0.18568921 0.43037868]\n",
              " [0.6885315  0.20552671 0.71589124]]\n",
              "<NDArray 2x3 @cpu(0)>"
            ]
          },
          "metadata": {
            "tags": []
          },
          "execution_count": 25
        }
      ]
    },
    {
      "cell_type": "code",
      "metadata": {
        "id": "fzoCAZoCGZ-f",
        "colab_type": "code",
        "outputId": "00d0076c-226c-4a05-ac2d-56a6dcb017e3",
        "colab": {
          "base_uri": "https://localhost:8080/",
          "height": 104
        }
      },
      "source": [
        "y.T"
      ],
      "execution_count": 0,
      "outputs": [
        {
          "output_type": "execute_result",
          "data": {
            "text/plain": [
              "\n",
              "[[0.09762704 0.6885315 ]\n",
              " [0.18568921 0.20552671]\n",
              " [0.43037868 0.71589124]]\n",
              "<NDArray 3x2 @cpu(0)>"
            ]
          },
          "metadata": {
            "tags": []
          },
          "execution_count": 26
        }
      ]
    },
    {
      "cell_type": "code",
      "metadata": {
        "id": "zd_aPCWXGe-8",
        "colab_type": "code",
        "outputId": "8938fdc4-fb9d-4aec-8572-8332101edd25",
        "colab": {
          "base_uri": "https://localhost:8080/",
          "height": 86
        }
      },
      "source": [
        "nd.dot(y,x.T)"
      ],
      "execution_count": 0,
      "outputs": [
        {
          "output_type": "execute_result",
          "data": {
            "text/plain": [
              "\n",
              "[[1.4273899 1.4273899]\n",
              " [3.219899  3.219899 ]]\n",
              "<NDArray 2x2 @cpu(0)>"
            ]
          },
          "metadata": {
            "tags": []
          },
          "execution_count": 27
        }
      ]
    },
    {
      "cell_type": "code",
      "metadata": {
        "id": "wJnBrv-iGiB3",
        "colab_type": "code",
        "outputId": "5c7ea847-ae2b-4627-e41e-f0d91f2d819c",
        "colab": {
          "base_uri": "https://localhost:8080/",
          "height": 86
        }
      },
      "source": [
        "y"
      ],
      "execution_count": 0,
      "outputs": [
        {
          "output_type": "execute_result",
          "data": {
            "text/plain": [
              "\n",
              "[[0.09762704 0.18568921 0.43037868]\n",
              " [0.6885315  0.20552671 0.71589124]]\n",
              "<NDArray 2x3 @cpu(0)>"
            ]
          },
          "metadata": {
            "tags": []
          },
          "execution_count": 28
        }
      ]
    },
    {
      "cell_type": "code",
      "metadata": {
        "id": "6zNUmgOsGorR",
        "colab_type": "code",
        "outputId": "2e31559f-47f8-48ce-94d7-89dbc3d48cc0",
        "colab": {
          "base_uri": "https://localhost:8080/",
          "height": 69
        }
      },
      "source": [
        "y[1:2]"
      ],
      "execution_count": 0,
      "outputs": [
        {
          "output_type": "execute_result",
          "data": {
            "text/plain": [
              "\n",
              "[[0.6885315  0.20552671 0.71589124]]\n",
              "<NDArray 1x3 @cpu(0)>"
            ]
          },
          "metadata": {
            "tags": []
          },
          "execution_count": 35
        }
      ]
    },
    {
      "cell_type": "code",
      "metadata": {
        "id": "JUXb_piMGqnC",
        "colab_type": "code",
        "outputId": "8a01a27f-f52d-4b02-ddde-930f8ecd141f",
        "colab": {
          "base_uri": "https://localhost:8080/",
          "height": 86
        }
      },
      "source": [
        "y[:,1:2]"
      ],
      "execution_count": 0,
      "outputs": [
        {
          "output_type": "execute_result",
          "data": {
            "text/plain": [
              "\n",
              "[[0.18568921]\n",
              " [0.20552671]]\n",
              "<NDArray 2x1 @cpu(0)>"
            ]
          },
          "metadata": {
            "tags": []
          },
          "execution_count": 36
        }
      ]
    },
    {
      "cell_type": "code",
      "metadata": {
        "id": "iFE0LBvxHHBS",
        "colab_type": "code",
        "colab": {}
      },
      "source": [
        "a =y.asnumpy()"
      ],
      "execution_count": 0,
      "outputs": []
    },
    {
      "cell_type": "code",
      "metadata": {
        "id": "KzRUAiwOHNtq",
        "colab_type": "code",
        "outputId": "4c2d2d24-49f0-47c5-d0c6-6aa3012466ed",
        "colab": {
          "base_uri": "https://localhost:8080/",
          "height": 52
        }
      },
      "source": [
        "a"
      ],
      "execution_count": 0,
      "outputs": [
        {
          "output_type": "execute_result",
          "data": {
            "text/plain": [
              "array([[0.09762704, 0.18568921, 0.43037868],\n",
              "       [0.6885315 , 0.20552671, 0.71589124]], dtype=float32)"
            ]
          },
          "metadata": {
            "tags": []
          },
          "execution_count": 39
        }
      ]
    },
    {
      "cell_type": "code",
      "metadata": {
        "id": "oY4AtZOOHTr-",
        "colab_type": "code",
        "outputId": "f9f75db4-1ce7-4f63-feac-3db079c9ce5e",
        "colab": {
          "base_uri": "https://localhost:8080/",
          "height": 86
        }
      },
      "source": [
        "nd.array(a)"
      ],
      "execution_count": 0,
      "outputs": [
        {
          "output_type": "execute_result",
          "data": {
            "text/plain": [
              "\n",
              "[[0.09762704 0.18568921 0.43037868]\n",
              " [0.6885315  0.20552671 0.71589124]]\n",
              "<NDArray 2x3 @cpu(0)>"
            ]
          },
          "metadata": {
            "tags": []
          },
          "execution_count": 40
        }
      ]
    },
    {
      "cell_type": "code",
      "metadata": {
        "id": "5zkbgdjWHWFG",
        "colab_type": "code",
        "colab": {}
      },
      "source": [
        "ctx=mx.gpu()"
      ],
      "execution_count": 0,
      "outputs": []
    },
    {
      "cell_type": "code",
      "metadata": {
        "id": "4S00NBWeHc-4",
        "colab_type": "code",
        "outputId": "fcb902fe-82f5-41ff-d4eb-687d0275744e",
        "colab": {
          "base_uri": "https://localhost:8080/",
          "height": 86
        }
      },
      "source": [
        "nd.array(a).as_in_context(ctx)"
      ],
      "execution_count": 0,
      "outputs": [
        {
          "output_type": "execute_result",
          "data": {
            "text/plain": [
              "\n",
              "[[0.09762704 0.18568921 0.43037868]\n",
              " [0.6885315  0.20552671 0.71589124]]\n",
              "<NDArray 2x3 @gpu(0)>"
            ]
          },
          "metadata": {
            "tags": []
          },
          "execution_count": 44
        }
      ]
    },
    {
      "cell_type": "markdown",
      "metadata": {
        "id": "F7iMZehtebV3",
        "colab_type": "text"
      },
      "source": [
        "## Gluon"
      ]
    },
    {
      "cell_type": "code",
      "metadata": {
        "id": "RgvZjePcHtFB",
        "colab_type": "code",
        "colab": {}
      },
      "source": [
        "from mxnet.gluon import nn"
      ],
      "execution_count": 0,
      "outputs": []
    },
    {
      "cell_type": "code",
      "metadata": {
        "id": "YVSDMcSNJVAo",
        "colab_type": "code",
        "colab": {}
      },
      "source": [
        "layer = nn.Dense(2)"
      ],
      "execution_count": 0,
      "outputs": []
    },
    {
      "cell_type": "code",
      "metadata": {
        "id": "S7tuTKT6JeDu",
        "colab_type": "code",
        "outputId": "fe1c4919-aa42-4edf-84a1-f4f3db09b0d9",
        "colab": {
          "base_uri": "https://localhost:8080/",
          "height": 34
        }
      },
      "source": [
        "layer"
      ],
      "execution_count": 0,
      "outputs": [
        {
          "output_type": "execute_result",
          "data": {
            "text/plain": [
              "Dense(None -> 2, linear)"
            ]
          },
          "metadata": {
            "tags": []
          },
          "execution_count": 47
        }
      ]
    },
    {
      "cell_type": "code",
      "metadata": {
        "id": "7MaFB-aRJp5q",
        "colab_type": "code",
        "colab": {}
      },
      "source": [
        "layer.initialize()"
      ],
      "execution_count": 0,
      "outputs": []
    },
    {
      "cell_type": "code",
      "metadata": {
        "id": "54N_7xojJ0ry",
        "colab_type": "code",
        "colab": {}
      },
      "source": [
        "x = nd.random.uniform(-1,1,(3,4))"
      ],
      "execution_count": 0,
      "outputs": []
    },
    {
      "cell_type": "code",
      "metadata": {
        "id": "prD-mEGjKArV",
        "colab_type": "code",
        "outputId": "9845a5d5-8cd5-4d86-8278-d8779cd2744c",
        "colab": {
          "base_uri": "https://localhost:8080/",
          "height": 104
        }
      },
      "source": [
        "x"
      ],
      "execution_count": 0,
      "outputs": [
        {
          "output_type": "execute_result",
          "data": {
            "text/plain": [
              "\n",
              "[[ 0.08976638  0.6945034  -0.15269041  0.24712741]\n",
              " [ 0.29178822 -0.23123658 -0.1248256  -0.40493077]\n",
              " [ 0.783546   -0.88657403  0.9273255  -0.45468742]]\n",
              "<NDArray 3x4 @cpu(0)>"
            ]
          },
          "metadata": {
            "tags": []
          },
          "execution_count": 51
        }
      ]
    },
    {
      "cell_type": "code",
      "metadata": {
        "id": "60qQK0NzKLfc",
        "colab_type": "code",
        "outputId": "88f33ef6-5ee9-4220-cf59-dd630b168346",
        "colab": {
          "base_uri": "https://localhost:8080/",
          "height": 104
        }
      },
      "source": [
        "layer(x)"
      ],
      "execution_count": 0,
      "outputs": [
        {
          "output_type": "execute_result",
          "data": {
            "text/plain": [
              "\n",
              "[[ 0.0009278  -0.00674768]\n",
              " [-0.02683341  0.00671751]\n",
              " [ 0.00798804  0.02131375]]\n",
              "<NDArray 3x2 @cpu(0)>"
            ]
          },
          "metadata": {
            "tags": []
          },
          "execution_count": 52
        }
      ]
    },
    {
      "cell_type": "code",
      "metadata": {
        "id": "yNT74913KTsB",
        "colab_type": "code",
        "outputId": "2581d154-d3ee-4317-e5e3-673ca211e434",
        "colab": {
          "base_uri": "https://localhost:8080/",
          "height": 86
        }
      },
      "source": [
        "layer.weight.data()"
      ],
      "execution_count": 0,
      "outputs": [
        {
          "output_type": "execute_result",
          "data": {
            "text/plain": [
              "\n",
              "[[-0.01631819 -0.00312688  0.0408415   0.04370362]\n",
              " [ 0.00404529 -0.0028032   0.00952624 -0.01501013]]\n",
              "<NDArray 2x4 @cpu(0)>"
            ]
          },
          "metadata": {
            "tags": []
          },
          "execution_count": 53
        }
      ]
    },
    {
      "cell_type": "code",
      "metadata": {
        "id": "0MpdhgUHKcI_",
        "colab_type": "code",
        "colab": {}
      },
      "source": [
        "net = nn.Sequential()"
      ],
      "execution_count": 0,
      "outputs": []
    },
    {
      "cell_type": "code",
      "metadata": {
        "id": "gMvFVwDGK3ZO",
        "colab_type": "code",
        "colab": {}
      },
      "source": [
        "net.add(nn.Conv2D(channels=5, kernel_size=4, activation='relu'))\n",
        "net.add(nn.MaxPool2D(pool_size=2,strides=2))\n",
        "net.add(nn.Conv2D(channels=15, kernel_size=3, activation='relu'))\n",
        "net.add(nn.MaxPool2D(pool_size=2,strides=2))\n",
        "net.add(nn.Dense(120,activation='relu'))\n",
        "net.add(nn.Dense(60,activation='relu'))\n",
        "net.add(nn.Dense(10))"
      ],
      "execution_count": 0,
      "outputs": []
    },
    {
      "cell_type": "code",
      "metadata": {
        "id": "4qqqh8rUM9RT",
        "colab_type": "code",
        "outputId": "e492ea8b-5bee-4d9a-ae84-d383ad4fa279",
        "colab": {
          "base_uri": "https://localhost:8080/",
          "height": 416
        }
      },
      "source": [
        "net.summary(x)"
      ],
      "execution_count": 0,
      "outputs": [
        {
          "output_type": "stream",
          "text": [
            "--------------------------------------------------------------------------------\n",
            "        Layer (type)                                Output Shape         Param #\n",
            "================================================================================\n",
            "               Input                              (1, 1, 28, 28)               0\n",
            "        Activation-1                              (1, 5, 25, 25)               0\n",
            "            Conv2D-2                              (1, 5, 25, 25)              85\n",
            "         MaxPool2D-3                              (1, 5, 12, 12)               0\n",
            "        Activation-4                             (1, 15, 10, 10)               0\n",
            "            Conv2D-5                             (1, 15, 10, 10)             690\n",
            "         MaxPool2D-6                               (1, 15, 5, 5)               0\n",
            "        Activation-7                                    (1, 120)               0\n",
            "             Dense-8                                    (1, 120)           45120\n",
            "        Activation-9                                     (1, 60)               0\n",
            "            Dense-10                                     (1, 60)            7260\n",
            "            Dense-11                                     (1, 10)             610\n",
            "================================================================================\n",
            "Parameters in forward computation graph, duplicate included\n",
            "   Total params: 53765\n",
            "   Trainable params: 53765\n",
            "   Non-trainable params: 0\n",
            "Shared params in forward computation graph: 0\n",
            "Unique parameters in model: 53765\n",
            "--------------------------------------------------------------------------------\n"
          ],
          "name": "stdout"
        }
      ]
    },
    {
      "cell_type": "code",
      "metadata": {
        "id": "ceMAobM6N-T1",
        "colab_type": "code",
        "colab": {}
      },
      "source": [
        "net.initialize(force_reinit=True)"
      ],
      "execution_count": 0,
      "outputs": []
    },
    {
      "cell_type": "code",
      "metadata": {
        "id": "pDCeW8rkOCek",
        "colab_type": "code",
        "colab": {}
      },
      "source": [
        "x = nd.random.uniform(-1,1,(1,1,28,28))"
      ],
      "execution_count": 0,
      "outputs": []
    },
    {
      "cell_type": "code",
      "metadata": {
        "id": "q-akvftrOKYA",
        "colab_type": "code",
        "colab": {}
      },
      "source": [
        "y=net(x)"
      ],
      "execution_count": 0,
      "outputs": []
    },
    {
      "cell_type": "code",
      "metadata": {
        "id": "H4ggSGbiOThL",
        "colab_type": "code",
        "outputId": "69da85d8-037a-4ae0-d38e-5204741ac70f",
        "colab": {
          "base_uri": "https://localhost:8080/",
          "height": 34
        }
      },
      "source": [
        "y.shape"
      ],
      "execution_count": 0,
      "outputs": [
        {
          "output_type": "execute_result",
          "data": {
            "text/plain": [
              "(1, 10)"
            ]
          },
          "metadata": {
            "tags": []
          },
          "execution_count": 72
        }
      ]
    },
    {
      "cell_type": "code",
      "metadata": {
        "id": "zCUqMxplPAba",
        "colab_type": "code",
        "outputId": "a0265740-f357-4552-9ad5-be5aff2ed428",
        "colab": {
          "base_uri": "https://localhost:8080/",
          "height": 86
        }
      },
      "source": [
        "y"
      ],
      "execution_count": 0,
      "outputs": [
        {
          "output_type": "execute_result",
          "data": {
            "text/plain": [
              "\n",
              "[[ 0.00111121  0.00105025 -0.00065519  0.00078372 -0.00124837  0.00077913\n",
              "  -0.00426338 -0.00033932  0.0006577  -0.000106  ]]\n",
              "<NDArray 1x10 @cpu(0)>"
            ]
          },
          "metadata": {
            "tags": []
          },
          "execution_count": 73
        }
      ]
    },
    {
      "cell_type": "markdown",
      "metadata": {
        "id": "YJQJwkaFeeba",
        "colab_type": "text"
      },
      "source": [
        "## Differenziazione automatica"
      ]
    },
    {
      "cell_type": "code",
      "metadata": {
        "id": "_xl3uBANPGEi",
        "colab_type": "code",
        "colab": {}
      },
      "source": [
        "from mxnet import autograd"
      ],
      "execution_count": 0,
      "outputs": []
    },
    {
      "cell_type": "code",
      "metadata": {
        "id": "-WGO6Rn7Ymd0",
        "colab_type": "code",
        "colab": {}
      },
      "source": [
        "x = nd.array(((1,2),(3,4)))"
      ],
      "execution_count": 0,
      "outputs": []
    },
    {
      "cell_type": "code",
      "metadata": {
        "id": "QyKuj0d9YvaJ",
        "colab_type": "code",
        "outputId": "8f88cb5e-2555-4d29-e222-28471ac74caf",
        "colab": {
          "base_uri": "https://localhost:8080/",
          "height": 86
        }
      },
      "source": [
        "x"
      ],
      "execution_count": 0,
      "outputs": [
        {
          "output_type": "execute_result",
          "data": {
            "text/plain": [
              "\n",
              "[[1. 2.]\n",
              " [3. 4.]]\n",
              "<NDArray 2x2 @cpu(0)>"
            ]
          },
          "metadata": {
            "tags": []
          },
          "execution_count": 77
        }
      ]
    },
    {
      "cell_type": "code",
      "metadata": {
        "id": "hRjFcJYvYv4h",
        "colab_type": "code",
        "colab": {}
      },
      "source": [
        "x.attach_grad()"
      ],
      "execution_count": 0,
      "outputs": []
    },
    {
      "cell_type": "code",
      "metadata": {
        "id": "PBzqbN39Zf2K",
        "colab_type": "code",
        "colab": {}
      },
      "source": [
        "with autograd.record():\n",
        "  y=2*x*x"
      ],
      "execution_count": 0,
      "outputs": []
    },
    {
      "cell_type": "code",
      "metadata": {
        "id": "yXrIGixNZ0xp",
        "colab_type": "code",
        "colab": {}
      },
      "source": [
        "y.backward()"
      ],
      "execution_count": 0,
      "outputs": []
    },
    {
      "cell_type": "code",
      "metadata": {
        "id": "dttoQ5tpZ9vR",
        "colab_type": "code",
        "outputId": "d64baa12-479d-4604-e0ef-77801c990f48",
        "colab": {
          "base_uri": "https://localhost:8080/",
          "height": 86
        }
      },
      "source": [
        "x.grad"
      ],
      "execution_count": 0,
      "outputs": [
        {
          "output_type": "execute_result",
          "data": {
            "text/plain": [
              "\n",
              "[[ 4.  8.]\n",
              " [12. 16.]]\n",
              "<NDArray 2x2 @cpu(0)>"
            ]
          },
          "metadata": {
            "tags": []
          },
          "execution_count": 81
        }
      ]
    },
    {
      "cell_type": "code",
      "metadata": {
        "id": "VCMKy2ENaGX0",
        "colab_type": "code",
        "colab": {}
      },
      "source": [
        "def f(a):\n",
        "  b = a*2\n",
        "  while b.norm().asscalar() < 1000:\n",
        "    b = b * 2\n",
        "  \n",
        "  if b.sum().asscalar() >=2990:\n",
        "    c=b[0]\n",
        "  else:\n",
        "    c=b[1]\n",
        "  return c"
      ],
      "execution_count": 0,
      "outputs": []
    },
    {
      "cell_type": "code",
      "metadata": {
        "id": "QKeBEsYfa-Vl",
        "colab_type": "code",
        "outputId": "50d3eca3-9c5c-4527-da35-b2f6680ebfd6",
        "colab": {
          "base_uri": "https://localhost:8080/",
          "height": 69
        }
      },
      "source": [
        "a = nd.random.uniform(shape=2)\n",
        "a"
      ],
      "execution_count": 0,
      "outputs": [
        {
          "output_type": "execute_result",
          "data": {
            "text/plain": [
              "\n",
              "[0.44751588 0.41748637]\n",
              "<NDArray 2 @cpu(0)>"
            ]
          },
          "metadata": {
            "tags": []
          },
          "execution_count": 96
        }
      ]
    },
    {
      "cell_type": "code",
      "metadata": {
        "id": "T0_IGPtTbJYg",
        "colab_type": "code",
        "colab": {}
      },
      "source": [
        "a.attach_grad()"
      ],
      "execution_count": 0,
      "outputs": []
    },
    {
      "cell_type": "code",
      "metadata": {
        "id": "9eG9hH0QbTid",
        "colab_type": "code",
        "colab": {}
      },
      "source": [
        "with autograd.record():\n",
        "  c=f(a)\n",
        "c.backward()"
      ],
      "execution_count": 0,
      "outputs": []
    },
    {
      "cell_type": "code",
      "metadata": {
        "id": "LjElFoxTbftd",
        "colab_type": "code",
        "outputId": "1f9e8bd9-1da2-45c3-952f-90652bfc6ce0",
        "colab": {
          "base_uri": "https://localhost:8080/",
          "height": 69
        }
      },
      "source": [
        "c"
      ],
      "execution_count": 0,
      "outputs": [
        {
          "output_type": "execute_result",
          "data": {
            "text/plain": [
              "\n",
              "[855.0121]\n",
              "<NDArray 1 @cpu(0)>"
            ]
          },
          "metadata": {
            "tags": []
          },
          "execution_count": 99
        }
      ]
    },
    {
      "cell_type": "code",
      "metadata": {
        "id": "hRdmnWECbn5c",
        "colab_type": "code",
        "outputId": "19dd4c14-6d3e-44db-92ab-7a67e8d5e7d7",
        "colab": {
          "base_uri": "https://localhost:8080/",
          "height": 104
        }
      },
      "source": [
        "[a.grad,c/a]"
      ],
      "execution_count": 0,
      "outputs": [
        {
          "output_type": "execute_result",
          "data": {
            "text/plain": [
              "[\n",
              " [   0. 2048.]\n",
              " <NDArray 2 @cpu(0)>, \n",
              " [1910.5737 2048.    ]\n",
              " <NDArray 2 @cpu(0)>]"
            ]
          },
          "metadata": {
            "tags": []
          },
          "execution_count": 100
        }
      ]
    },
    {
      "cell_type": "code",
      "metadata": {
        "id": "YEwNf7aqbtlN",
        "colab_type": "code",
        "colab": {}
      },
      "source": [
        "from mxnet import nd,gpu,gluon,init,autograd\n",
        "from mxnet.gluon import nn\n",
        "from mxnet.gluon.data.vision import datasets, transforms\n",
        "import matplotlib.pyplot as plt\n",
        "import time\n",
        "import mxnet as mx"
      ],
      "execution_count": 0,
      "outputs": []
    },
    {
      "cell_type": "code",
      "metadata": {
        "id": "Ih9mRbfHdojG",
        "colab_type": "code",
        "colab": {}
      },
      "source": [
        "ctx = mx.gpu()"
      ],
      "execution_count": 0,
      "outputs": []
    },
    {
      "cell_type": "code",
      "metadata": {
        "id": "tsNqjK37dupi",
        "colab_type": "code",
        "colab": {}
      },
      "source": [
        "x = nd.ones((3,4),ctx=ctx)"
      ],
      "execution_count": 0,
      "outputs": []
    },
    {
      "cell_type": "code",
      "metadata": {
        "id": "I3QO1hefeQGF",
        "colab_type": "code",
        "outputId": "410fdb9b-5217-4cdd-804a-997db7a50495",
        "colab": {
          "base_uri": "https://localhost:8080/",
          "height": 104
        }
      },
      "source": [
        "x"
      ],
      "execution_count": 0,
      "outputs": [
        {
          "output_type": "execute_result",
          "data": {
            "text/plain": [
              "\n",
              "[[1. 1. 1. 1.]\n",
              " [1. 1. 1. 1.]\n",
              " [1. 1. 1. 1.]]\n",
              "<NDArray 3x4 @gpu(0)>"
            ]
          },
          "metadata": {
            "tags": []
          },
          "execution_count": 106
        }
      ]
    },
    {
      "cell_type": "markdown",
      "metadata": {
        "id": "3p_U3s_Deku2",
        "colab_type": "text"
      },
      "source": [
        "## Training sul Fashion MNIST"
      ]
    },
    {
      "cell_type": "code",
      "metadata": {
        "id": "PsnMBveneRYP",
        "colab_type": "code",
        "outputId": "cbe5fbeb-e167-4b0f-d376-acd888c212e7",
        "colab": {
          "base_uri": "https://localhost:8080/",
          "height": 72
        }
      },
      "source": [
        "mnist_train = datasets.FashionMNIST(train=True)"
      ],
      "execution_count": 0,
      "outputs": [
        {
          "output_type": "stream",
          "text": [
            "Downloading /root/.mxnet/datasets/fashion-mnist/train-images-idx3-ubyte.gz from https://apache-mxnet.s3-accelerate.dualstack.amazonaws.com/gluon/dataset/fashion-mnist/train-images-idx3-ubyte.gz...\n",
            "Downloading /root/.mxnet/datasets/fashion-mnist/train-labels-idx1-ubyte.gz from https://apache-mxnet.s3-accelerate.dualstack.amazonaws.com/gluon/dataset/fashion-mnist/train-labels-idx1-ubyte.gz...\n"
          ],
          "name": "stdout"
        }
      ]
    },
    {
      "cell_type": "code",
      "metadata": {
        "id": "5wqKEkPJfAUX",
        "colab_type": "code",
        "colab": {}
      },
      "source": [
        "X,y=mnist_train[0]"
      ],
      "execution_count": 0,
      "outputs": []
    },
    {
      "cell_type": "code",
      "metadata": {
        "id": "Adg1UIflfKM2",
        "colab_type": "code",
        "outputId": "24c3bfe1-dc2d-4d2f-af3c-5099902fdf5f",
        "colab": {
          "base_uri": "https://localhost:8080/",
          "height": 34
        }
      },
      "source": [
        "y"
      ],
      "execution_count": 0,
      "outputs": [
        {
          "output_type": "execute_result",
          "data": {
            "text/plain": [
              "2"
            ]
          },
          "metadata": {
            "tags": []
          },
          "execution_count": 111
        }
      ]
    },
    {
      "cell_type": "code",
      "metadata": {
        "id": "Zq_3A_JcfMfG",
        "colab_type": "code",
        "colab": {}
      },
      "source": [
        "text_labels = ['maglietta','pantaloni','maglione','abito','giacca',\n",
        "               'sandalo','maglia','scarpe','borsa','stivali']"
      ],
      "execution_count": 0,
      "outputs": []
    },
    {
      "cell_type": "code",
      "metadata": {
        "id": "EX2PIAqMfoNS",
        "colab_type": "code",
        "colab": {}
      },
      "source": [
        "X,y=mnist_train[0:10]"
      ],
      "execution_count": 0,
      "outputs": []
    },
    {
      "cell_type": "code",
      "metadata": {
        "id": "Z2SU9EHifv5O",
        "colab_type": "code",
        "outputId": "aaafb01d-21a0-4676-b38c-30347c320124",
        "colab": {
          "base_uri": "https://localhost:8080/",
          "height": 119
        }
      },
      "source": [
        "_,figs=plt.subplots(1,X.shape[0],figsize=(15,15))\n",
        "for f,x,yi in zip(figs,X,y):\n",
        "  f.imshow(x.reshape((28,28)).asnumpy())\n",
        "  ax=f.axes\n",
        "  ax.set_title(text_labels[int(yi)])\n",
        "  ax.title.set_fontsize(14)\n",
        "  ax.get_xaxis().set_visible(False)\n",
        "  ax.get_yaxis().set_visible(False)\n",
        "plt.show()\n",
        "  "
      ],
      "execution_count": 0,
      "outputs": [
        {
          "output_type": "display_data",
          "data": {
            "image/png": "[encoded data removed]",
            "text/plain": [
              "<Figure size 1080x1080 with 10 Axes>"
            ]
          },
          "metadata": {
            "tags": []
          }
        }
      ]
    },
    {
      "cell_type": "code",
      "metadata": {
        "id": "ZxP2Let3gEo1",
        "colab_type": "code",
        "colab": {}
      },
      "source": [
        "transformer = transforms.Compose([\n",
        "    transforms.ToTensor(),\n",
        "    transforms.Normalize(0.13,0.31)\n",
        "])\n",
        "mnist_train = mnist_train.transform_first(transformer)"
      ],
      "execution_count": 0,
      "outputs": []
    },
    {
      "cell_type": "code",
      "metadata": {
        "id": "dAG8LtsXhMa6",
        "colab_type": "code",
        "colab": {}
      },
      "source": [
        "batch_size=256"
      ],
      "execution_count": 0,
      "outputs": []
    },
    {
      "cell_type": "code",
      "metadata": {
        "id": "rdNes36iiCLt",
        "colab_type": "code",
        "colab": {}
      },
      "source": [
        "train_data = gluon.data.DataLoader(mnist_train,batch_size=batch_size,\n",
        "                                  shuffle=True,num_workers=4)"
      ],
      "execution_count": 0,
      "outputs": []
    },
    {
      "cell_type": "code",
      "metadata": {
        "id": "lUpiWXqTiQ0N",
        "colab_type": "code",
        "outputId": "316e5031-700b-4d88-ddec-5ccece377104",
        "colab": {
          "base_uri": "https://localhost:8080/",
          "height": 34
        }
      },
      "source": [
        "for data,label in train_data:\n",
        "  print(data.shape,label.shape)\n",
        "  break"
      ],
      "execution_count": 0,
      "outputs": [
        {
          "output_type": "stream",
          "text": [
            "(256, 1, 28, 28) (256,)\n"
          ],
          "name": "stdout"
        }
      ]
    },
    {
      "cell_type": "code",
      "metadata": {
        "id": "D1NynQVti59k",
        "colab_type": "code",
        "colab": {}
      },
      "source": [
        "mnist_valid = gluon.data.vision.FashionMNIST(train=False)\n",
        "mnist_valid = mnist_valid.transform_first(transformer)\n",
        "valid_data= gluon.data.DataLoader(mnist_valid,batch_size=batch_size,\n",
        "                                  shuffle=False,num_workers=4)"
      ],
      "execution_count": 0,
      "outputs": []
    },
    {
      "cell_type": "code",
      "metadata": {
        "id": "Yq7XpgTVjsSE",
        "colab_type": "code",
        "outputId": "8d4e79de-4cb0-4a5f-c162-1949a8dc886e",
        "colab": {
          "base_uri": "https://localhost:8080/",
          "height": 173
        }
      },
      "source": [
        "def define_net():\n",
        "  net = nn.Sequential()\n",
        "  net.add(nn.Conv2D(channels=5, kernel_size=4, activation='relu'))\n",
        "  net.add(nn.MaxPool2D(pool_size=2,strides=2))\n",
        "  net.add(nn.Conv2D(channels=15, kernel_size=3, activation='relu'))\n",
        "  net.add(nn.MaxPool2D(pool_size=2,strides=2))\n",
        "  net.add(nn.Dense(120,activation='relu'))\n",
        "  net.add(nn.Dense(60,activation='relu'))\n",
        "  net.add(nn.Dense(10))\n",
        "  return net\n",
        "net = define_net()\n",
        "net"
      ],
      "execution_count": 0,
      "outputs": [
        {
          "output_type": "execute_result",
          "data": {
            "text/plain": [
              "Sequential(\n",
              "  (0): Conv2D(None -> 5, kernel_size=(4, 4), stride=(1, 1))\n",
              "  (1): MaxPool2D(size=(2, 2), stride=(2, 2), padding=(0, 0), ceil_mode=False)\n",
              "  (2): Conv2D(None -> 15, kernel_size=(3, 3), stride=(1, 1))\n",
              "  (3): MaxPool2D(size=(2, 2), stride=(2, 2), padding=(0, 0), ceil_mode=False)\n",
              "  (4): Dense(None -> 120, Activation(relu))\n",
              "  (5): Dense(None -> 60, Activation(relu))\n",
              "  (6): Dense(None -> 10, linear)\n",
              ")"
            ]
          },
          "metadata": {
            "tags": []
          },
          "execution_count": 147
        }
      ]
    },
    {
      "cell_type": "code",
      "metadata": {
        "id": "Qw_K9j3XkQTC",
        "colab_type": "code",
        "colab": {}
      },
      "source": [
        "net.initialize(init=init.Xavier(),force_reinit=True,ctx=ctx)"
      ],
      "execution_count": 0,
      "outputs": []
    },
    {
      "cell_type": "code",
      "metadata": {
        "id": "tKxYz4LWkqzG",
        "colab_type": "code",
        "colab": {}
      },
      "source": [
        "sce = gluon.loss.SoftmaxCrossEntropyLoss()"
      ],
      "execution_count": 0,
      "outputs": []
    },
    {
      "cell_type": "code",
      "metadata": {
        "id": "7GEHX6qrk5Us",
        "colab_type": "code",
        "outputId": "d1044ce9-e966-49db-9a94-17fcec74ee9d",
        "colab": {
          "base_uri": "https://localhost:8080/",
          "height": 225
        }
      },
      "source": [
        "net.collect_params()"
      ],
      "execution_count": 0,
      "outputs": [
        {
          "output_type": "execute_result",
          "data": {
            "text/plain": [
              "sequential3_ (\n",
              "  Parameter conv8_weight (shape=(5, 0, 4, 4), dtype=<class 'numpy.float32'>)\n",
              "  Parameter conv8_bias (shape=(5,), dtype=<class 'numpy.float32'>)\n",
              "  Parameter conv9_weight (shape=(15, 0, 3, 3), dtype=<class 'numpy.float32'>)\n",
              "  Parameter conv9_bias (shape=(15,), dtype=<class 'numpy.float32'>)\n",
              "  Parameter dense13_weight (shape=(120, 0), dtype=float32)\n",
              "  Parameter dense13_bias (shape=(120,), dtype=float32)\n",
              "  Parameter dense14_weight (shape=(60, 0), dtype=float32)\n",
              "  Parameter dense14_bias (shape=(60,), dtype=float32)\n",
              "  Parameter dense15_weight (shape=(10, 0), dtype=float32)\n",
              "  Parameter dense15_bias (shape=(10,), dtype=float32)\n",
              ")"
            ]
          },
          "metadata": {
            "tags": []
          },
          "execution_count": 150
        }
      ]
    },
    {
      "cell_type": "code",
      "metadata": {
        "id": "jbugQYdglHjb",
        "colab_type": "code",
        "colab": {}
      },
      "source": [
        "trainer = gluon.Trainer(net.collect_params(),'adam')"
      ],
      "execution_count": 0,
      "outputs": []
    },
    {
      "cell_type": "code",
      "metadata": {
        "id": "iXh_MwmNlPHB",
        "colab_type": "code",
        "colab": {}
      },
      "source": [
        "def acc(output,label):\n",
        "  return (output.argmax(axis=1) == \n",
        "          label.astype('float32')).mean().asscalar()"
      ],
      "execution_count": 0,
      "outputs": []
    },
    {
      "cell_type": "code",
      "metadata": {
        "id": "86IYCCQElgMg",
        "colab_type": "code",
        "colab": {}
      },
      "source": [
        "all_losses=[]"
      ],
      "execution_count": 0,
      "outputs": []
    },
    {
      "cell_type": "code",
      "metadata": {
        "id": "YgvDJ6ToljbF",
        "colab_type": "code",
        "outputId": "bfd70a4c-e13c-47dd-c3a0-af4a2bc6d645",
        "colab": {
          "base_uri": "https://localhost:8080/",
          "height": 191
        }
      },
      "source": [
        "for epoch in range(10):\n",
        "  train_loss,train_acc,valid_acc = 0.,0.,0.\n",
        "  start =time.time()\n",
        "  i = 0\n",
        "  \n",
        "  for data,label in train_data:\n",
        "    data = data.as_in_context(ctx)\n",
        "    label = label.as_in_context(ctx)\n",
        "    with autograd.record():\n",
        "      out = net(data)\n",
        "      loss = sce(out,label)\n",
        "    loss.backward()\n",
        "    trainer.step(batch_size)\n",
        "    cur_loss = loss.mean().asscalar()\n",
        "    if i % 100 ==0:\n",
        "      all_losses.append(cur_loss)\n",
        "    train_loss+=cur_loss\n",
        "    train_acc+=acc(out,label)\n",
        "    i+=1\n",
        "  for data,label in valid_data:\n",
        "    data = data.as_in_context(ctx)\n",
        "    label = label.as_in_context(ctx)\n",
        "    valid_acc+=acc(net(data),label)\n",
        "  print(\"Epoch %d: loss %.3f, train acc: %.3f, test acc: %.3f in %.lf sec\" %\n",
        "        (epoch, train_loss/len(train_data), train_acc/len(train_data),\n",
        "         valid_acc/len(valid_data),time.time()-start))"
      ],
      "execution_count": 0,
      "outputs": [
        {
          "output_type": "stream",
          "text": [
            "Epoch 0: loss 0.663, train acc: 0.763, test acc: 0.834 in 9 sec\n",
            "Epoch 1: loss 0.426, train acc: 0.846, test acc: 0.853 in 10 sec\n",
            "Epoch 2: loss 0.379, train acc: 0.862, test acc: 0.865 in 10 sec\n",
            "Epoch 3: loss 0.351, train acc: 0.871, test acc: 0.875 in 10 sec\n",
            "Epoch 4: loss 0.332, train acc: 0.879, test acc: 0.874 in 10 sec\n",
            "Epoch 5: loss 0.316, train acc: 0.882, test acc: 0.881 in 10 sec\n",
            "Epoch 6: loss 0.303, train acc: 0.887, test acc: 0.877 in 10 sec\n",
            "Epoch 7: loss 0.292, train acc: 0.891, test acc: 0.890 in 10 sec\n",
            "Epoch 8: loss 0.282, train acc: 0.896, test acc: 0.890 in 10 sec\n",
            "Epoch 9: loss 0.275, train acc: 0.898, test acc: 0.895 in 10 sec\n"
          ],
          "name": "stdout"
        }
      ]
    },
    {
      "cell_type": "code",
      "metadata": {
        "id": "1zBszho-lxiT",
        "colab_type": "code",
        "outputId": "116131be-0ad1-4732-b50a-3b3f548fbbc5",
        "colab": {
          "base_uri": "https://localhost:8080/",
          "height": 351
        }
      },
      "source": [
        "plt.plot(all_losses)\n",
        "plt.show()"
      ],
      "execution_count": 0,
      "outputs": [
        {
          "output_type": "display_data",
          "data": {
            "image/png": "[encoded data removed]",
            "text/plain": [
              "<Figure size 576x396 with 1 Axes>"
            ]
          },
          "metadata": {
            "tags": []
          }
        }
      ]
    },
    {
      "cell_type": "code",
      "metadata": {
        "id": "Ry-8mJTDpgVl",
        "colab_type": "code",
        "colab": {}
      },
      "source": [
        "mnist_valid=datasets.FashionMNIST(train=False)"
      ],
      "execution_count": 0,
      "outputs": []
    },
    {
      "cell_type": "code",
      "metadata": {
        "id": "-eEf_5curbpm",
        "colab_type": "code",
        "colab": {}
      },
      "source": [
        "file_name = 'parametri-rete'\n",
        "net.save_parameters(file_name)\n",
        "\n",
        "another_net=define_net()\n",
        "another_net.load_parameters(file_name,ctx=ctx)"
      ],
      "execution_count": 0,
      "outputs": []
    },
    {
      "cell_type": "code",
      "metadata": {
        "id": "cT5MqnYTp9CX",
        "colab_type": "code",
        "colab": {}
      },
      "source": [
        "X ,y = mnist_valid[0:10]\n",
        "preds = []\n",
        "\n",
        "for x in X:\n",
        "  x = transformer(x).expand_dims(axis=0).as_in_context(ctx)\n",
        "  pred = another_net(x).argmax(axis=1)\n",
        "  preds.append(pred.astype('int32').asscalar())"
      ],
      "execution_count": 0,
      "outputs": []
    },
    {
      "cell_type": "code",
      "metadata": {
        "id": "Csx9YsqSqy0l",
        "colab_type": "code",
        "outputId": "a1a64aa2-e838-4db7-c2b3-2c539171e0f2",
        "colab": {
          "base_uri": "https://localhost:8080/",
          "height": 34
        }
      },
      "source": [
        "preds"
      ],
      "execution_count": 0,
      "outputs": [
        {
          "output_type": "execute_result",
          "data": {
            "text/plain": [
              "[0, 1, 2, 6, 3, 6, 8, 4, 5, 0]"
            ]
          },
          "metadata": {
            "tags": []
          },
          "execution_count": 159
        }
      ]
    },
    {
      "cell_type": "code",
      "metadata": {
        "id": "mYxcMdRzq4Su",
        "colab_type": "code",
        "outputId": "8bd5506b-2d40-4624-d013-0ab3e436c353",
        "colab": {
          "base_uri": "https://localhost:8080/",
          "height": 135
        }
      },
      "source": [
        "_,figs=plt.subplots(1,X.shape[0],figsize=(15,15))\n",
        "for f,x,yi,p in zip(figs,X,y,preds):\n",
        "  f.imshow(x.reshape((28,28)).asnumpy())\n",
        "  ax=f.axes\n",
        "  ax.set_title(text_labels[int(yi)]+\"\\n\"+text_labels[int(p)])\n",
        "  ax.title.set_fontsize(14)\n",
        "  ax.get_xaxis().set_visible(False)\n",
        "  ax.get_yaxis().set_visible(False)\n",
        "plt.show()"
      ],
      "execution_count": 0,
      "outputs": [
        {
          "output_type": "display_data",
          "data": {
            "image/png": "[encoded data removed]",
            "text/plain": [
              "<Figure size 1080x1080 with 10 Axes>"
            ]
          },
          "metadata": {
            "tags": []
          }
        }
      ]
    },
    {
      "cell_type": "code",
      "metadata": {
        "id": "KYw0ryQirMvn",
        "colab_type": "code",
        "outputId": "b3b25462-e611-4d03-bcc9-a40110556221",
        "colab": {
          "base_uri": "https://localhost:8080/",
          "height": 330
        }
      },
      "source": [
        "!pip install gluoncv"
      ],
      "execution_count": 0,
      "outputs": [
        {
          "output_type": "stream",
          "text": [
            "Requirement already satisfied: gluoncv in /usr/local/lib/python3.6/dist-packages (0.3.0)\n",
            "Requirement already satisfied: Pillow in /usr/local/lib/python3.6/dist-packages (from gluoncv) (4.0.0)\n",
            "Requirement already satisfied: tqdm in /usr/local/lib/python3.6/dist-packages (from gluoncv) (4.28.1)\n",
            "Requirement already satisfied: scipy in /usr/local/lib/python3.6/dist-packages (from gluoncv) (1.1.0)\n",
            "Requirement already satisfied: matplotlib in /usr/local/lib/python3.6/dist-packages (from gluoncv) (3.0.2)\n",
            "Requirement already satisfied: numpy in /usr/local/lib/python3.6/dist-packages (from gluoncv) (1.14.6)\n",
            "Requirement already satisfied: requests in /usr/local/lib/python3.6/dist-packages (from gluoncv) (2.21.0)\n",
            "Requirement already satisfied: olefile in /usr/local/lib/python3.6/dist-packages (from Pillow->gluoncv) (0.46)\n",
            "Requirement already satisfied: pyparsing!=2.0.4,!=2.1.2,!=2.1.6,>=2.0.1 in /usr/local/lib/python3.6/dist-packages (from matplotlib->gluoncv) (2.3.1)\n",
            "Requirement already satisfied: cycler>=0.10 in /usr/local/lib/python3.6/dist-packages (from matplotlib->gluoncv) (0.10.0)\n",
            "Requirement already satisfied: kiwisolver>=1.0.1 in /usr/local/lib/python3.6/dist-packages (from matplotlib->gluoncv) (1.0.1)\n",
            "Requirement already satisfied: python-dateutil>=2.1 in /usr/local/lib/python3.6/dist-packages (from matplotlib->gluoncv) (2.5.3)\n",
            "Requirement already satisfied: urllib3<1.25,>=1.21.1 in /usr/local/lib/python3.6/dist-packages (from requests->gluoncv) (1.22)\n",
            "Requirement already satisfied: chardet<3.1.0,>=3.0.2 in /usr/local/lib/python3.6/dist-packages (from requests->gluoncv) (3.0.4)\n",
            "Requirement already satisfied: certifi>=2017.4.17 in /usr/local/lib/python3.6/dist-packages (from requests->gluoncv) (2018.11.29)\n",
            "Requirement already satisfied: idna<2.9,>=2.5 in /usr/local/lib/python3.6/dist-packages (from requests->gluoncv) (2.6)\n",
            "Requirement already satisfied: six in /usr/local/lib/python3.6/dist-packages (from cycler>=0.10->matplotlib->gluoncv) (1.11.0)\n",
            "Requirement already satisfied: setuptools in /usr/local/lib/python3.6/dist-packages (from kiwisolver>=1.0.1->matplotlib->gluoncv) (40.6.3)\n"
          ],
          "name": "stdout"
        }
      ]
    },
    {
      "cell_type": "code",
      "metadata": {
        "id": "KjNy0zpYsLle",
        "colab_type": "code",
        "colab": {}
      },
      "source": [
        "from gluoncv import model_zoo,data,utils"
      ],
      "execution_count": 0,
      "outputs": []
    },
    {
      "cell_type": "code",
      "metadata": {
        "id": "hnn-izX6sRN5",
        "colab_type": "code",
        "colab": {}
      },
      "source": [
        "net = model_zoo.get_model('ssd_512_resnet50_v1_voc',pretrained=True)"
      ],
      "execution_count": 0,
      "outputs": []
    },
    {
      "cell_type": "code",
      "metadata": {
        "id": "1FvoxCmtsZzt",
        "colab_type": "code",
        "colab": {}
      },
      "source": [
        "file_name = utils.download('https://img2.tgcom24.mediaset.it/binary/articolo/istockphoto/47.$plit/C_2_articolo_3123450_upiImagepp.jpg?20180222143255',\n",
        "                           path='gatt.jpg')\n"
      ],
      "execution_count": 0,
      "outputs": []
    },
    {
      "cell_type": "code",
      "metadata": {
        "id": "0bHKOZows4M4",
        "colab_type": "code",
        "colab": {}
      },
      "source": [
        "x,img = data.transforms.presets.ssd.load_test(file_name,short=512)\n",
        "\n",
        "print(x.shape)"
      ],
      "execution_count": 0,
      "outputs": []
    },
    {
      "cell_type": "code",
      "metadata": {
        "id": "2wPZDYyltCB7",
        "colab_type": "code",
        "colab": {}
      },
      "source": [
        "class_id, scores, bounding_boxes = net(x)"
      ],
      "execution_count": 0,
      "outputs": []
    },
    {
      "cell_type": "code",
      "metadata": {
        "id": "7r_h0S68tJGl",
        "colab_type": "code",
        "colab": {}
      },
      "source": [
        "ax = utils.viz.plot_bbox(img,bounding_boxes[0],scores[0],class_id[0],\n",
        "                         class_names=net.classes)\n",
        "plt.show()"
      ],
      "execution_count": 0,
      "outputs": []
    },
    {
      "cell_type": "code",
      "metadata": {
        "id": "V7c50RG3tgDc",
        "colab_type": "code",
        "colab": {}
      },
      "source": [
        ""
      ],
      "execution_count": 0,
      "outputs": []
    }
  ]
}