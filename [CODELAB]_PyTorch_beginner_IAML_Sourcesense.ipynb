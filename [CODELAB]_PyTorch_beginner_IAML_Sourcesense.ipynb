{
  "nbformat": 4,
  "nbformat_minor": 0,
  "metadata": {
    "colab": {
      "name": "[CODELAB] PyTorch beginner - IAML / Sourcesense.ipynb",
      "version": "0.3.2",
      "provenance": []
    },
    "kernelspec": {
      "name": "python3",
      "display_name": "Python 3"
    },
    "accelerator": "GPU"
  },
  "cells": [
    {
      "cell_type": "markdown",
      "metadata": {
        "id": "YPheVeZi9ZGx",
        "colab_type": "text"
      },
      "source": [
        "# Codelab PyTorch (beginner)\n",
        "## Organizzato da [Italian Association for Machine Learning](http://iaml.it) e [Sourcesense](https://www.sourcesense.com)"
      ]
    },
    {
      "cell_type": "markdown",
      "metadata": {
        "id": "kvZleEeLBDJ-",
        "colab_type": "text"
      },
      "source": [
        "### Preparazione della macchine virtuale\n",
        "\n",
        "Si veda il sito ufficiale per le varie opzioni di install: http://pytorch.org"
      ]
    },
    {
      "cell_type": "code",
      "metadata": {
        "id": "yNmjR4plbw2Y",
        "colab_type": "code",
        "colab": {}
      },
      "source": [
        "# Installazione di PyTorch (versione in preview 1.0.0)\n",
        "!pip install torch_nightly -f https://download.pytorch.org/whl/nightly/cu90/torch_nightly.html"
      ],
      "execution_count": 0,
      "outputs": []
    },
    {
      "cell_type": "code",
      "metadata": {
        "id": "vEn5_kNfpdrq",
        "colab_type": "code",
        "colab": {}
      },
      "source": [
        "# Installazione di scikit-learn e matplotlib\n",
        "!pip install scikit-learn matplotlib"
      ],
      "execution_count": 0,
      "outputs": []
    },
    {
      "cell_type": "markdown",
      "metadata": {
        "id": "pHdM5t1xBT52",
        "colab_type": "text"
      },
      "source": [
        "### Parte 1: Concetti base di PyTorch"
      ]
    },
    {
      "cell_type": "code",
      "metadata": {
        "id": "Q_l7rvY9d7Of",
        "colab_type": "code",
        "colab": {}
      },
      "source": [
        "import torch"
      ],
      "execution_count": 0,
      "outputs": []
    },
    {
      "cell_type": "code",
      "metadata": {
        "id": "4F_opfNkeHpj",
        "colab_type": "code",
        "colab": {}
      },
      "source": [
        "# Creare un tensore in NumPy\n",
        "import numpy as np\n",
        "x = np.zeros((3, 2))\n",
        "print(x)"
      ],
      "execution_count": 0,
      "outputs": []
    },
    {
      "cell_type": "code",
      "metadata": {
        "id": "rVvqyXeafJ1d",
        "colab_type": "code",
        "colab": {}
      },
      "source": [
        "# Creare un tensore simile in PyTorch\n",
        "y = torch.ones((3, 2))\n",
        "print(y.double())"
      ],
      "execution_count": 0,
      "outputs": []
    },
    {
      "cell_type": "code",
      "metadata": {
        "id": "UuDXIMVEgEvb",
        "colab_type": "code",
        "colab": {}
      },
      "source": [
        "# Shape del tensore\n",
        "y.shape"
      ],
      "execution_count": 0,
      "outputs": []
    },
    {
      "cell_type": "code",
      "metadata": {
        "id": "IltuxDo1gce_",
        "colab_type": "code",
        "colab": {}
      },
      "source": [
        "# Indicizzazione\n",
        "y[0, 0]"
      ],
      "execution_count": 0,
      "outputs": []
    },
    {
      "cell_type": "code",
      "metadata": {
        "id": "WEcjFx6Ogve-",
        "colab_type": "code",
        "colab": {}
      },
      "source": [
        "# Interoperabilità NumPy / PyTorch\n",
        "# Notare come la rappresentazione sia condivisa!\n",
        "xx = torch.from_numpy(x)\n",
        "xx += 1\n",
        "x"
      ],
      "execution_count": 0,
      "outputs": []
    },
    {
      "cell_type": "code",
      "metadata": {
        "id": "B2cFVymIheS6",
        "colab_type": "code",
        "colab": {}
      },
      "source": [
        "# Interoperabilità PyTorch / NumPy\n",
        "y.numpy()"
      ],
      "execution_count": 0,
      "outputs": []
    },
    {
      "cell_type": "code",
      "metadata": {
        "id": "IwNPjOgZiEXL",
        "colab_type": "code",
        "colab": {}
      },
      "source": [
        "# Nuova sintassi in > 0.4.0 per ottenere un singolo scalare\n",
        "y[0,0].item()"
      ],
      "execution_count": 0,
      "outputs": []
    },
    {
      "cell_type": "code",
      "metadata": {
        "id": "qvs1EXM0iTMP",
        "colab_type": "code",
        "colab": {}
      },
      "source": [
        "# Statistiche sull'intero tensore\n",
        "x.mean(axis=0)"
      ],
      "execution_count": 0,
      "outputs": []
    },
    {
      "cell_type": "markdown",
      "metadata": {
        "id": "VFMkU1F-Bwmt",
        "colab_type": "text"
      },
      "source": [
        "### Parte 2: meccanismi di autodifferenziazione"
      ]
    },
    {
      "cell_type": "code",
      "metadata": {
        "id": "0HzbU0MBjF-r",
        "colab_type": "code",
        "colab": {}
      },
      "source": [
        "# Definire un tensore di cui tracciare le operazioni\n",
        "# Nota: nelle versioni < 0.4.0, questo si otteneva con un oggetto di tipo \"Variable\"\n",
        "v = torch.rand(4, requires_grad=True)"
      ],
      "execution_count": 0,
      "outputs": []
    },
    {
      "cell_type": "code",
      "metadata": {
        "id": "Zxy1DI79jqF-",
        "colab_type": "code",
        "colab": {}
      },
      "source": [
        "# Ottenere i dati del tensore\n",
        "v.data"
      ],
      "execution_count": 0,
      "outputs": []
    },
    {
      "cell_type": "code",
      "metadata": {
        "id": "lRp1r0Pvj5TN",
        "colab_type": "code",
        "colab": {}
      },
      "source": [
        "# 'grad_fn' mantiene informazioni sulle varie operazioni con cui sono stati costruiti i tensori\n",
        "v.grad_fn"
      ],
      "execution_count": 0,
      "outputs": []
    },
    {
      "cell_type": "code",
      "metadata": {
        "id": "pWPGBOMBkCgz",
        "colab_type": "code",
        "colab": {}
      },
      "source": [
        "# Effettuiamo qualche operazione e vediamo il tracciamento\n",
        "z = torch.sum(torch.sqrt(v + 3))\n",
        "z.grad_fn"
      ],
      "execution_count": 0,
      "outputs": []
    },
    {
      "cell_type": "code",
      "metadata": {
        "id": "G1KF1bxJkiZ-",
        "colab_type": "code",
        "colab": {}
      },
      "source": [
        "# Operazione di autodifferenziazione\n",
        "z.backward()"
      ],
      "execution_count": 0,
      "outputs": []
    },
    {
      "cell_type": "code",
      "metadata": {
        "id": "dhP6cMfQk81x",
        "colab_type": "code",
        "colab": {}
      },
      "source": [
        "# Il gradiente viene salvato all'interno dei tensori stessi\n",
        "v.grad"
      ],
      "execution_count": 0,
      "outputs": []
    },
    {
      "cell_type": "code",
      "metadata": {
        "id": "zRVG_XIcmUWy",
        "colab_type": "code",
        "colab": {}
      },
      "source": [
        "# Per ottenere la rappresentazione NumPy è necessario chiamare 'detach' per ottenere una 'copia sicura' dei dati (senza tracciamento)\n",
        "v.detach().numpy()"
      ],
      "execution_count": 0,
      "outputs": []
    },
    {
      "cell_type": "code",
      "metadata": {
        "id": "W7mhZOLunAnL",
        "colab_type": "code",
        "colab": {}
      },
      "source": [
        "# Sintassi per operazioni che non richiedono tracciamento\n",
        "with torch.no_grad():\n",
        "  z = v + 3.0"
      ],
      "execution_count": 0,
      "outputs": []
    },
    {
      "cell_type": "markdown",
      "metadata": {
        "id": "C1obcuR2Ch7n",
        "colab_type": "text"
      },
      "source": [
        "### Parte 3: un classificatore in PyTorch"
      ]
    },
    {
      "cell_type": "code",
      "metadata": {
        "id": "BK2yE5kNp2By",
        "colab_type": "code",
        "colab": {}
      },
      "source": [
        "# Importiamo un dataset di classificazione (Iris)\n",
        "from sklearn import datasets\n",
        "data = datasets.load_iris()"
      ],
      "execution_count": 0,
      "outputs": []
    },
    {
      "cell_type": "code",
      "metadata": {
        "id": "rzfKhmXYqXk4",
        "colab_type": "code",
        "colab": {}
      },
      "source": [
        "# In sklearn.datasets, i dataset sono in forma di dizionario\n",
        "data.keys()"
      ],
      "execution_count": 0,
      "outputs": []
    },
    {
      "cell_type": "code",
      "metadata": {
        "id": "jtF9vFPfqiRT",
        "colab_type": "code",
        "colab": {}
      },
      "source": [
        "# Estraiamo i dati utili per l'allenamento\n",
        "X = data['data']\n",
        "y = data['target']"
      ],
      "execution_count": 0,
      "outputs": []
    },
    {
      "cell_type": "code",
      "metadata": {
        "id": "-uy9qQHOquBS",
        "colab_type": "code",
        "colab": {}
      },
      "source": [
        "X.shape"
      ],
      "execution_count": 0,
      "outputs": []
    },
    {
      "cell_type": "code",
      "metadata": {
        "id": "Y1HyTyPhq6EY",
        "colab_type": "code",
        "colab": {}
      },
      "source": [
        "y"
      ],
      "execution_count": 0,
      "outputs": []
    },
    {
      "cell_type": "code",
      "metadata": {
        "id": "K2tvnW99rsuD",
        "colab_type": "code",
        "colab": {}
      },
      "source": [
        "# Dividiamo i dati in una parte di training ed una parte di test\n",
        "from sklearn import model_selection\n",
        "Xtrain, Xtest, ytrain, ytest =\\\n",
        "      model_selection.train_test_split(X, y, stratify=y)"
      ],
      "execution_count": 0,
      "outputs": []
    },
    {
      "cell_type": "code",
      "metadata": {
        "id": "5HH3bY_ttPtz",
        "colab_type": "code",
        "colab": {}
      },
      "source": [
        "# Esempio di regressione logistica implementata 'a mano'\n",
        "w = torch.zeros((4, 3), requires_grad=True)\n",
        "b = torch.zeros(3, requires_grad=True)\n",
        "def linear(x):\n",
        "  return x.mm(w) + b"
      ],
      "execution_count": 0,
      "outputs": []
    },
    {
      "cell_type": "code",
      "metadata": {
        "id": "sut7FVEbu_Px",
        "colab_type": "code",
        "colab": {}
      },
      "source": [
        "# Esempio di rete neurale implementata con le classi ad alto livello di PyTorch\n",
        "class OurModel(torch.nn.Module):\n",
        "  \n",
        "  def __init__(self):\n",
        "    super(OurModel, self).__init__()\n",
        "    self.lin = torch.nn.Linear(4, 15)\n",
        "    self.nonlin = torch.nn.ReLU()\n",
        "    self.lin2 = torch.nn.Linear(15, 3)\n",
        "    \n",
        "  def forward(self, x):\n",
        "    return self.lin2(self.nonlin(self.lin(x)))"
      ],
      "execution_count": 0,
      "outputs": []
    },
    {
      "cell_type": "code",
      "metadata": {
        "id": "VbdLpGOCyWa1",
        "colab_type": "code",
        "colab": {}
      },
      "source": [
        "# Iniziallizazione del modello\n",
        "nn = OurModel()"
      ],
      "execution_count": 0,
      "outputs": []
    },
    {
      "cell_type": "code",
      "metadata": {
        "id": "aXiPWkP3yeGm",
        "colab_type": "code",
        "colab": {}
      },
      "source": [
        "# Esempio di predizione del modello\n",
        "nn(torch.from_numpy(Xtrain[0:3]).float())"
      ],
      "execution_count": 0,
      "outputs": []
    },
    {
      "cell_type": "code",
      "metadata": {
        "id": "vXSeffWdBw2k",
        "colab_type": "code",
        "colab": {}
      },
      "source": [
        "# Per ottenere una lista di parametri del modello\n",
        "# Nota 1: 'Parameter' è un oggetto che denota un tensore di parametri del modello (practicamente equivalente ad un tensore con requires_grad=True)\n",
        "# Nota 2: nn.parameters() ritorna un generatore\n",
        "# Nota 3: esiste anche una versione 'named_parameters' per ottenere i 'nomi' dei vari parametri\n",
        "[p for p in nn.parameters()]"
      ],
      "execution_count": 0,
      "outputs": []
    },
    {
      "cell_type": "code",
      "metadata": {
        "id": "UMNYCcZUylgU",
        "colab_type": "code",
        "colab": {}
      },
      "source": [
        "# Definizione della funzione costo\n",
        "crossentropy = torch.nn.CrossEntropyLoss()\n",
        "def loss(x, y):\n",
        "  ypred = nn(x)\n",
        "  return crossentropy(ypred, y)"
      ],
      "execution_count": 0,
      "outputs": []
    },
    {
      "cell_type": "code",
      "metadata": {
        "id": "4dW7o1T5An39",
        "colab_type": "code",
        "colab": {}
      },
      "source": [
        "# Definizione dell'algoritmo di ottimizzazione\n",
        "opt = torch.optim.Adam(params=nn.parameters())"
      ],
      "execution_count": 0,
      "outputs": []
    },
    {
      "cell_type": "code",
      "metadata": {
        "id": "Y9JMJKrc_BDV",
        "colab_type": "code",
        "colab": {}
      },
      "source": [
        "# Fase di ottimizzazione\n",
        "iters = 1000\n",
        "\n",
        "Xtrain_t = torch.from_numpy(Xtrain).float()\n",
        "ytrain_t = torch.from_numpy(ytrain)\n",
        "\n",
        "all_losses = np.zeros(iters)\n",
        "\n",
        "for i in range(iters):\n",
        "  \n",
        "  l = loss(Xtrain_t, ytrain_t)\n",
        "  all_losses[i] = l.detach().item()\n",
        "  \n",
        "  l.backward()\n",
        "  \n",
        "  opt.step()\n",
        "  \n",
        "  opt.zero_grad()"
      ],
      "execution_count": 0,
      "outputs": []
    },
    {
      "cell_type": "code",
      "metadata": {
        "id": "nsMVWJq9Fo1e",
        "colab_type": "code",
        "colab": {}
      },
      "source": [
        "# Plot della loss del modello durante l'ottimizzazione\n",
        "import matplotlib.pyplot as plt\n",
        "plt.plot(all_losses)\n",
        "plt.show()"
      ],
      "execution_count": 0,
      "outputs": []
    },
    {
      "cell_type": "code",
      "metadata": {
        "id": "DmTan5cJGgqr",
        "colab_type": "code",
        "colab": {}
      },
      "source": [
        "# Calcolo dell'accuratezza\n",
        "ypred = nn(torch.from_numpy(Xtest).float()).detach().numpy()\n",
        "np.mean(np.argmax(ypred, axis=1) == ytest)"
      ],
      "execution_count": 0,
      "outputs": []
    },
    {
      "cell_type": "code",
      "metadata": {
        "id": "iBWPFe-rKtsb",
        "colab_type": "code",
        "colab": {}
      },
      "source": [
        "# Esempio di come spostare tutti i conti sulla GPU\n",
        "Xtrain_t.to(torch.device('cuda'))\n",
        "ytrain_t.to(torch.device('cuda'))\n",
        "nn.to(torch.device('cuda'))"
      ],
      "execution_count": 0,
      "outputs": []
    }
  ]
}